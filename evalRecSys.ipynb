{
 "cells": [
  {
   "cell_type": "code",
   "execution_count": 1,
   "metadata": {},
   "outputs": [],
   "source": [
    "#pip install scikit-surprise\n",
    "\n",
    "from surprise import SVD\n",
    "from surprise import KNNBaseline\n",
    "from surprise import Dataset\n",
    "from surprise import Reader\n",
    "import numpy as np\n",
    "import pandas as pd"
   ]
  },
  {
   "cell_type": "code",
   "execution_count": 2,
   "metadata": {},
   "outputs": [
    {
     "data": {
      "text/html": [
       "<div>\n",
       "<style scoped>\n",
       "    .dataframe tbody tr th:only-of-type {\n",
       "        vertical-align: middle;\n",
       "    }\n",
       "\n",
       "    .dataframe tbody tr th {\n",
       "        vertical-align: top;\n",
       "    }\n",
       "\n",
       "    .dataframe thead th {\n",
       "        text-align: right;\n",
       "    }\n",
       "</style>\n",
       "<table border=\"1\" class=\"dataframe\">\n",
       "  <thead>\n",
       "    <tr style=\"text-align: right;\">\n",
       "      <th></th>\n",
       "      <th>userId</th>\n",
       "      <th>movieId</th>\n",
       "      <th>rating</th>\n",
       "      <th>timestamp</th>\n",
       "    </tr>\n",
       "  </thead>\n",
       "  <tbody>\n",
       "    <tr>\n",
       "      <th>0</th>\n",
       "      <td>1</td>\n",
       "      <td>1</td>\n",
       "      <td>4.0</td>\n",
       "      <td>964982703</td>\n",
       "    </tr>\n",
       "    <tr>\n",
       "      <th>1</th>\n",
       "      <td>1</td>\n",
       "      <td>3</td>\n",
       "      <td>4.0</td>\n",
       "      <td>964981247</td>\n",
       "    </tr>\n",
       "    <tr>\n",
       "      <th>2</th>\n",
       "      <td>1</td>\n",
       "      <td>6</td>\n",
       "      <td>4.0</td>\n",
       "      <td>964982224</td>\n",
       "    </tr>\n",
       "    <tr>\n",
       "      <th>3</th>\n",
       "      <td>1</td>\n",
       "      <td>47</td>\n",
       "      <td>5.0</td>\n",
       "      <td>964983815</td>\n",
       "    </tr>\n",
       "    <tr>\n",
       "      <th>4</th>\n",
       "      <td>1</td>\n",
       "      <td>50</td>\n",
       "      <td>5.0</td>\n",
       "      <td>964982931</td>\n",
       "    </tr>\n",
       "  </tbody>\n",
       "</table>\n",
       "</div>"
      ],
      "text/plain": [
       "   userId  movieId  rating  timestamp\n",
       "0       1        1     4.0  964982703\n",
       "1       1        3     4.0  964981247\n",
       "2       1        6     4.0  964982224\n",
       "3       1       47     5.0  964983815\n",
       "4       1       50     5.0  964982931"
      ]
     },
     "execution_count": 2,
     "metadata": {},
     "output_type": "execute_result"
    }
   ],
   "source": [
    "df = pd.read_csv('ml-latest-small/ratings.csv')\n",
    "df.head()"
   ]
  },
  {
   "cell_type": "code",
   "execution_count": 3,
   "metadata": {},
   "outputs": [],
   "source": [
    "moviesDF = pd.read_csv(\"ml-latest-small/movies.csv\", sep=\",\")\n",
    "moviesDF.movieId = moviesDF.movieId.astype(int)\n",
    "moviesDF.set_index(\"movieId\", inplace=True)"
   ]
  },
  {
   "cell_type": "code",
   "execution_count": 4,
   "metadata": {},
   "outputs": [],
   "source": [
    "# simplification of the evaluation case: predict last-k for each user\n",
    "dfTrain = pd.DataFrame()\n",
    "dfTest = pd.DataFrame()\n",
    "for currUser in df.userId.unique():\n",
    "    dataCurrUser = df[df.userId == currUser]\n",
    "    currUserTrain = dataCurrUser.iloc[:-10]\n",
    "    currUserTest = dataCurrUser.iloc[-10:]\n",
    "    dfTrain = dfTrain.append(currUserTrain)\n",
    "    dfTest = dfTest.append(currUserTest)"
   ]
  },
  {
   "cell_type": "code",
   "execution_count": 5,
   "metadata": {},
   "outputs": [
    {
     "data": {
      "text/plain": [
       "array(['1', '3', '6', ..., '160836', '163937', '163981'], dtype='<U21')"
      ]
     },
     "execution_count": 5,
     "metadata": {},
     "output_type": "execute_result"
    }
   ],
   "source": [
    "allObjects = df.movieId.unique().astype(str)\n",
    "allTestSetUsers = dfTest.userId.unique().astype(str)\n",
    "allObjects"
   ]
  },
  {
   "cell_type": "code",
   "execution_count": 6,
   "metadata": {},
   "outputs": [],
   "source": [
    "dfTrain.to_csv('ml-latest-small/ratingsTrain.csv', index=False)\n",
    "dfTest.to_csv('ml-latest-small/ratingsTest.csv', index=False)"
   ]
  },
  {
   "cell_type": "code",
   "execution_count": 7,
   "metadata": {},
   "outputs": [],
   "source": [
    "file_path = 'ml-latest-small/ratingsTrain.csv'\n",
    "reader = Reader(line_format='user item rating timestamp', sep=',', skip_lines=1)\n",
    "\n",
    "data = Dataset.load_from_file(file_path, reader=reader)\n",
    "trainset = data.build_full_trainset()"
   ]
  },
  {
   "cell_type": "code",
   "execution_count": 8,
   "metadata": {},
   "outputs": [
    {
     "data": {
      "text/plain": [
       "<surprise.trainset.Trainset at 0x7f466412fca0>"
      ]
     },
     "execution_count": 8,
     "metadata": {},
     "output_type": "execute_result"
    }
   ],
   "source": [
    "trainset"
   ]
  },
  {
   "cell_type": "code",
   "execution_count": 17,
   "metadata": {},
   "outputs": [],
   "source": [
    "def evaluate(perUserRecommendations):\n",
    "    #implement evaluation metrics here\n",
    "    # some accuracy metric is a baseline (precision@k, nDCG, MAP,...)\n",
    "    # then implement some beyond-accuracy metric (diversity, novelty, coverage, popularity bias,...)    \n",
    "    # some metrics already implemented somewhere:-) \n",
    "    # https://scikit-learn.org/stable/modules/generated/sklearn.metrics.ndcg_score.html\n",
    "    pass\n",
    "\n",
    "def recommend(perUserPredictions, top_k):\n",
    "    # select which items should be recommended\n",
    "    # baseline is selection of top-k items with highest estimated ratingpredict\n",
    "    # you can implement some diversity / novelty / coverage enhancements here\n",
    "    return sorted(perUserPredictions, key=lambda x: x.est)[:top_k]\n",
    "\n",
    "def metricStatistics(perUserMetrics):\n",
    "    # aggregate per-user metrics into an overall statistic\n",
    "    # baseline is mean, but you can be more creative\n",
    "    # one other option (needs results of all hyperparam settings) is to compare how many times the algorithm provided better / worse recommendation than other alternatives\n",
    "    pass\n",
    "\n",
    "def pickBestVariant(results):\n",
    "    # based on the results of the evaluation, select best-performing method\n",
    "    # do the selection based on individual metrics as baseline\n",
    "    # or think about how to make an aggregated selection based on multiple metrics\n",
    "    # ideally, visualize the results to see the tradeoff between metrics\n",
    "    pass"
   ]
  },
  {
   "cell_type": "code",
   "execution_count": 18,
   "metadata": {},
   "outputs": [
    {
     "name": "stdout",
     "output_type": "stream",
     "text": [
      "[Prediction(uid='1', iid='1499', r_ui=None, est=2.8895067458257206, details={'was_impossible': False}), Prediction(uid='1', iid='1556', r_ui=None, est=2.8943022350247896, details={'was_impossible': False}), Prediction(uid='1', iid='2338', r_ui=None, est=2.9234921227928, details={'was_impossible': False}), Prediction(uid='1', iid='1760', r_ui=None, est=3.000992483525246, details={'was_impossible': False}), Prediction(uid='1', iid='3593', r_ui=None, est=3.0349819511005722, details={'was_impossible': False}), Prediction(uid='1', iid='2701', r_ui=None, est=3.0704860248629395, details={'was_impossible': False}), Prediction(uid='1', iid='2389', r_ui=None, est=3.0992329300345243, details={'was_impossible': False}), Prediction(uid='1', iid='181', r_ui=None, est=3.1189762348837595, details={'was_impossible': False}), Prediction(uid='1', iid='3826', r_ui=None, est=3.130898386419319, details={'was_impossible': False}), Prediction(uid='1', iid='762', r_ui=None, est=3.1588914326648947, details={'was_impossible': False}), Prediction(uid='1', iid='2412', r_ui=None, est=3.177337211942789, details={'was_impossible': False}), Prediction(uid='1', iid='1644', r_ui=None, est=3.204516640360117, details={'was_impossible': False}), Prediction(uid='1', iid='546', r_ui=None, est=3.2055621264132226, details={'was_impossible': False}), Prediction(uid='1', iid='374', r_ui=None, est=3.216911357865774, details={'was_impossible': False}), Prediction(uid='1', iid='312', r_ui=None, est=3.2210975286037664, details={'was_impossible': False}), Prediction(uid='1', iid='193', r_ui=None, est=3.22491347149392, details={'was_impossible': False}), Prediction(uid='1', iid='2053', r_ui=None, est=3.2348612649801103, details={'was_impossible': False}), Prediction(uid='1', iid='1882', r_ui=None, est=3.2386607720099567, details={'was_impossible': False}), Prediction(uid='1', iid='2422', r_ui=None, est=3.242515491214441, details={'was_impossible': False}), Prediction(uid='1', iid='8666', r_ui=None, est=3.2442372463026357, details={'was_impossible': False})]\n"
     ]
    },
    {
     "ename": "NameError",
     "evalue": "name 'metricsPerUser' is not defined",
     "output_type": "error",
     "traceback": [
      "\u001b[0;31m---------------------------------------------------------------------------\u001b[0m",
      "\u001b[0;31mNameError\u001b[0m                                 Traceback (most recent call last)",
      "\u001b[0;32m<ipython-input-18-12055223193d>\u001b[0m in \u001b[0;36m<module>\u001b[0;34m\u001b[0m\n\u001b[1;32m     19\u001b[0m     \u001b[0;31m#accumulate m1, m2 to sth. like metricsPerUser\u001b[0m\u001b[0;34m\u001b[0m\u001b[0;34m\u001b[0m\u001b[0;34m\u001b[0m\u001b[0m\n\u001b[1;32m     20\u001b[0m \u001b[0;34m\u001b[0m\u001b[0m\n\u001b[0;32m---> 21\u001b[0;31m \u001b[0mresults\u001b[0m \u001b[0;34m=\u001b[0m \u001b[0mmetricStatistics\u001b[0m\u001b[0;34m(\u001b[0m\u001b[0mmetricsPerUser\u001b[0m\u001b[0;34m)\u001b[0m\u001b[0;34m\u001b[0m\u001b[0;34m\u001b[0m\u001b[0m\n\u001b[0m\u001b[1;32m     22\u001b[0m \u001b[0;34m\u001b[0m\u001b[0m\n",
      "\u001b[0;31mNameError\u001b[0m: name 'metricsPerUser' is not defined"
     ]
    }
   ],
   "source": [
    "# todo use some hyperparameter tuning loop here\n",
    "# ideally, try more than one algorithm\n",
    "\n",
    "algSVD = SVD()\n",
    "algSVD.fit(trainset)\n",
    "\n",
    "for uid in allTestSetUsers:\n",
    "    perUserPredictions = []\n",
    "    for oid in allObjects:\n",
    "        \n",
    "        perUserPredictions.append(algSVD.predict(uid,oid, clip=False))\n",
    "    \n",
    "    recs = recommend(perUserPredictions, 20) \n",
    "    print(recs)\n",
    "    break\n",
    "    \n",
    "    #(m1, m2) = evaluate(recs)\n",
    "    #it may be necessary to collect additional information for evaluate() e.g. known ratings similarity matrix etc.\n",
    "    #accumulate m1, m2 to sth. like metricsPerUser\n",
    "\n",
    "results = metricStatistics(metricsPerUser)\n",
    "\n"
   ]
  },
  {
   "cell_type": "code",
   "execution_count": 26,
   "metadata": {},
   "outputs": [
    {
     "data": {
      "text/plain": [
       "Prediction(uid='1', iid='2', r_ui=None, est=4.268015663114385, details={'was_impossible': False})"
      ]
     },
     "execution_count": 26,
     "metadata": {},
     "output_type": "execute_result"
    }
   ],
   "source": [
    "\n",
    "algo.predict(\"1\",\"2\", clip=False)"
   ]
  },
  {
   "cell_type": "code",
   "execution_count": 51,
   "metadata": {},
   "outputs": [
    {
     "name": "stdout",
     "output_type": "stream",
     "text": [
      "Estimating biases using als...\n",
      "Computing the msd similarity matrix...\n",
      "Done computing similarity matrix.\n",
      "user: 1          item: 2          r_ui = None   est = 4.15   {'actual_k': 40, 'was_impossible': False}\n",
      "1 2 4.148609180175668\n"
     ]
    }
   ],
   "source": [
    "# Use the knn.\n",
    "algoKNN = KNNBaseline()\n",
    "algoKNN.fit(trainset)\n",
    "pred = algoKNN.predict(\"1\",\"2\", clip=False)\n",
    "print(pred)\n",
    "print(pred.uid, pred.iid, pred.est)"
   ]
  },
  {
   "cell_type": "code",
   "execution_count": null,
   "metadata": {},
   "outputs": [],
   "source": []
  }
 ],
 "metadata": {
  "kernelspec": {
   "display_name": "Python 3",
   "language": "python",
   "name": "python3"
  },
  "language_info": {
   "codemirror_mode": {
    "name": "ipython",
    "version": 3
   },
   "file_extension": ".py",
   "mimetype": "text/x-python",
   "name": "python",
   "nbconvert_exporter": "python",
   "pygments_lexer": "ipython3",
   "version": "3.8.10"
  }
 },
 "nbformat": 4,
 "nbformat_minor": 4
}
